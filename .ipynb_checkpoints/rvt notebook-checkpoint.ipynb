{
 "cells": [
  {
   "cell_type": "code",
   "execution_count": 1,
   "id": "d84c7402-ed5c-4de4-996f-0abf511e9f08",
   "metadata": {
    "tags": []
   },
   "outputs": [],
   "source": [
    "from config import Config\n",
    "from model.pytorch_models.cnn import CNN\n",
    "from model.pytorch_models.cvt import ConvolutionalVisionTransformer, QuickGELU, LayerNorm\n",
    "from model.pytorch_models.rvt import ResidualVisionTransformer\n",
    "from __init__ import get_train_test_data\n",
    "import torch\n",
    "from torch import nn\n",
    "from torchsummary import summary\n",
    "import numpy as np\n",
    "from functools import partial\n",
    "from model.metrics import rmse, mape, mae, get_model_save_path\n",
    "import tensorwatch as tw\n",
    "import os"
   ]
  },
  {
   "cell_type": "code",
   "execution_count": 2,
   "id": "3b613be8-095b-4bba-85a6-f156e7d39fca",
   "metadata": {
    "tags": []
   },
   "outputs": [
    {
     "name": "stdout",
     "output_type": "stream",
     "text": [
      "12\n"
     ]
    }
   ],
   "source": [
    "# torch.cuda.is_available() checks and returns a Boolean True if a GPU is available, else it'll return False\n",
    "# is_cuda = torch.cuda.is_available()\n",
    "\n",
    "# # If we have a GPU available, we'll set our device to GPU. We'll use this device variable later in our code.\n",
    "# if is_cuda:\n",
    "#     device = torch.device(\"cuda\")\n",
    "#     print(\"GPU is available\")\n",
    "# else:\n",
    "#     device = torch.device(\"cpu\")\n",
    "#     print(\"GPU not available, CPU used\")\n",
    "\n",
    "# Set manual seed for reproducability\n",
    "torch.manual_seed(50)\n",
    "\n",
    "conf = Config(\"config_fig.yaml\")\n",
    "print(conf.observe_length)"
   ]
  },
  {
   "cell_type": "code",
   "execution_count": 3,
   "id": "61c0bb9d-fdc4-4603-bb2d-eaeb29a08abf",
   "metadata": {
    "tags": []
   },
   "outputs": [
    {
     "name": "stdout",
     "output_type": "stream",
     "text": [
      "complete start\n",
      "Start load_raw_link_speed_by_road_in_time ing..\n",
      "speed items 363996\n",
      "load from raw finish\n",
      "function load_raw_link_speed_by_road cost 0.5340030193328857 s\n",
      "preprocess finish\n",
      "function load_raw_link_speed_by_road_in_time cost 0.5340030193328857 s\n",
      "complete finish\n",
      "STM  SHAPE(edges, timeslots)  13*28=  #######  (955, 364)\n",
      "ARM  SHAPE(edges, A) ####### (955, 5)\n",
      "T  SHAPE ####### 364\n",
      "function completion_data cost 1.2476856708526611 s\n",
      "****************** External Information ****************************\n",
      "holiday shape (364, 1)\n",
      "vec shape (day of week 7, weekend/weekday 1, hour of day 13 (364, 21)\n",
      "External data shape (364, 22)\n",
      "*********************************************************************\n",
      "YS shape(,edges,predict_length) (364, 955, 1)\n",
      "externel_data weather and holidays E.shape(,predict_length,) (364, 1, 22)\n",
      "****************** Periodicity  Information ****************************\n",
      "In-day periodicity XC.shape(nb_days,edges,timeslots_in_day) (28, 955, 12, 2)\n",
      "Weekly periodicity XP.shape(49* 24 days because the first 7 days have not previous hitorical data,edges,7) (273, 955, 7, 2)\n",
      "*********************************************************************\n",
      "function get_data cost 4.289714336395264 s\n",
      "xs after reshape (28, 955, 12, 2)\n",
      "************* split  **********************\n",
      "arms: (28, 955, 5) train_xs: (23, 955, 12, 2) test_xs: (5, 955, 12, 2) train_ys: (359, 955, 1) test_ys: (5, 955, 1) train and test _xp: (268, 955, 7, 2) (5, 955, 7, 2) train and test _xt: (177, 955, 2, 2) (5, 955, 2, 2) train and test _xe: (359, 1, 22) (5, 1, 22)\n",
      "n = datas[0].shape[0]=  23\n",
      "n = datas[0].shape[0]=  5\n",
      "************* batch_size  **********************\n",
      "arms: (23, 955, 5) train_xs: (23, 955, 12, 2) test_xs: (5, 955, 12, 2) train_ys: (23, 955, 1) test_ys: (5, 955, 1) train and test _xp: (23, 955, 7, 2) (5, 955, 7, 2) train and test _xt: (23, 955, 2, 2) (5, 955, 2, 2) train and test _xe: (23, 1, 22) (5, 1, 22)\n",
      "************** Train - Predict **********\n",
      "train_xs: (23, 955, 12, 2) test_xs: (5, 955, 12, 2) train_xp: (23, 955, 7, 2) test_xp: (5, 955, 7, 2) test_xe: (5, 1, 22) train_ys: (23, 955, 1) test_ys: (5, 955, 1)\n",
      "(23, 955, 12, 1) (23, 955, 12, 1) (23, 955, 12, 1)\n"
     ]
    }
   ],
   "source": [
    "# PREPARE DATA\n",
    "data, arm_shape, train_xs, train_ys, train_arms, train_xp, train_xt, train_xe,\\\n",
    "    train_vehicle_type, train_engine_config, train_gen_weight,\\\n",
    "    test_xs, test_ys, test_arms, test_xp, test_xt, test_xe,\\\n",
    "    test_vehicle_type, test_engine_config, test_gen_weight = \\\n",
    "    get_train_test_data(conf, need_road_network_structure_matrix=True)  # \\\n",
    "print('************** Train - Predict **********')\n",
    "print('train_xs:', train_xs.shape,  'test_xs:', test_xs.shape, 'train_xp:', train_xp.shape, 'test_xp:',\n",
    "      test_xp.shape, 'test_xe:', test_xe.shape, 'train_ys:', train_ys.shape, 'test_ys:', test_ys.shape)\n",
    "print(train_vehicle_type.shape, train_engine_config.shape, train_gen_weight.shape)\n"
   ]
  },
  {
   "cell_type": "code",
   "execution_count": 7,
   "id": "29620934-b42f-49c7-bdfa-df06d97b2dce",
   "metadata": {
    "tags": []
   },
   "outputs": [
    {
     "data": {
      "text/plain": [
       "array([[[-0.92335366],\n",
       "        [-0.92335366],\n",
       "        [-0.92335366],\n",
       "        ...,\n",
       "        [-0.93204666],\n",
       "        [-0.93204666],\n",
       "        [-0.93204666]],\n",
       "\n",
       "       [[-0.92335366],\n",
       "        [-0.92335366],\n",
       "        [-0.92335366],\n",
       "        ...,\n",
       "        [-0.93204666],\n",
       "        [-0.93204666],\n",
       "        [-0.93204666]],\n",
       "\n",
       "       [[-0.92335366],\n",
       "        [-0.92335366],\n",
       "        [-0.92335366],\n",
       "        ...,\n",
       "        [-0.93204666],\n",
       "        [-0.93204666],\n",
       "        [-0.93204666]],\n",
       "\n",
       "       ...,\n",
       "\n",
       "       [[-0.92335366],\n",
       "        [-0.92335366],\n",
       "        [-0.92335366],\n",
       "        ...,\n",
       "        [-0.93204666],\n",
       "        [-0.93204666],\n",
       "        [-0.93204666]],\n",
       "\n",
       "       [[-0.92335366],\n",
       "        [-0.92335366],\n",
       "        [-0.92335366],\n",
       "        ...,\n",
       "        [-0.93204666],\n",
       "        [-0.93204666],\n",
       "        [-0.93204666]],\n",
       "\n",
       "       [[-0.92335366],\n",
       "        [-0.92335366],\n",
       "        [-0.92335366],\n",
       "        ...,\n",
       "        [-0.93204666],\n",
       "        [-0.93204666],\n",
       "        [-0.93204666]]])"
      ]
     },
     "execution_count": 7,
     "metadata": {},
     "output_type": "execute_result"
    }
   ],
   "source": [
    "train_ys"
   ]
  },
  {
   "cell_type": "code",
   "execution_count": null,
   "id": "c26a691d-fb2b-4d75-b5aa-691cf57a5eb2",
   "metadata": {},
   "outputs": [],
   "source": []
  }
 ],
 "metadata": {
  "kernelspec": {
   "display_name": "Python 3 (ipykernel)",
   "language": "python",
   "name": "python3"
  },
  "language_info": {
   "codemirror_mode": {
    "name": "ipython",
    "version": 3
   },
   "file_extension": ".py",
   "mimetype": "text/x-python",
   "name": "python",
   "nbconvert_exporter": "python",
   "pygments_lexer": "ipython3",
   "version": "3.11.3"
  }
 },
 "nbformat": 4,
 "nbformat_minor": 5
}
