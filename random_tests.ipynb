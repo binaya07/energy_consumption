{
 "cells": [
  {
   "cell_type": "code",
   "execution_count": 1,
   "id": "4c97dc42-41a9-4bbf-9841-988a04267247",
   "metadata": {
    "tags": []
   },
   "outputs": [],
   "source": [
    "import pandas as pd"
   ]
  },
  {
   "cell_type": "code",
   "execution_count": 2,
   "id": "6fc2a3b4-2e88-4f69-87c7-8e54ae9acff2",
   "metadata": {
    "tags": []
   },
   "outputs": [],
   "source": [
    "headers = ['Date Time', 'Link', 'Energy consumption', 'Speed', 'VID']  # Replace with your actual column names\n",
    "data = pd.read_csv('link_avg_speed - Copy.csv', header = None, names = headers)"
   ]
  },
  {
   "cell_type": "code",
   "execution_count": 3,
   "id": "5f9e188a-0075-459c-8b9b-2b38c16f10fa",
   "metadata": {
    "tags": []
   },
   "outputs": [
    {
     "data": {
      "text/html": [
       "<div>\n",
       "<style scoped>\n",
       "    .dataframe tbody tr th:only-of-type {\n",
       "        vertical-align: middle;\n",
       "    }\n",
       "\n",
       "    .dataframe tbody tr th {\n",
       "        vertical-align: top;\n",
       "    }\n",
       "\n",
       "    .dataframe thead th {\n",
       "        text-align: right;\n",
       "    }\n",
       "</style>\n",
       "<table border=\"1\" class=\"dataframe\">\n",
       "  <thead>\n",
       "    <tr style=\"text-align: right;\">\n",
       "      <th></th>\n",
       "      <th>Date Time</th>\n",
       "      <th>Link</th>\n",
       "      <th>Energy consumption</th>\n",
       "      <th>Speed</th>\n",
       "      <th>VID</th>\n",
       "    </tr>\n",
       "  </thead>\n",
       "  <tbody>\n",
       "    <tr>\n",
       "      <th>0</th>\n",
       "      <td>01/11/2017 08:00</td>\n",
       "      <td>1</td>\n",
       "      <td>0.467553</td>\n",
       "      <td>38.971429</td>\n",
       "      <td>418</td>\n",
       "    </tr>\n",
       "    <tr>\n",
       "      <th>1</th>\n",
       "      <td>01/11/2017 09:00</td>\n",
       "      <td>1</td>\n",
       "      <td>0.467553</td>\n",
       "      <td>38.971429</td>\n",
       "      <td>418</td>\n",
       "    </tr>\n",
       "    <tr>\n",
       "      <th>2</th>\n",
       "      <td>01/11/2017 10:00</td>\n",
       "      <td>1</td>\n",
       "      <td>0.467553</td>\n",
       "      <td>38.971429</td>\n",
       "      <td>418</td>\n",
       "    </tr>\n",
       "    <tr>\n",
       "      <th>3</th>\n",
       "      <td>01/11/2017 11:00</td>\n",
       "      <td>1</td>\n",
       "      <td>0.467553</td>\n",
       "      <td>38.971429</td>\n",
       "      <td>418</td>\n",
       "    </tr>\n",
       "    <tr>\n",
       "      <th>4</th>\n",
       "      <td>01/11/2017 12:00</td>\n",
       "      <td>1</td>\n",
       "      <td>0.467553</td>\n",
       "      <td>38.971429</td>\n",
       "      <td>418</td>\n",
       "    </tr>\n",
       "  </tbody>\n",
       "</table>\n",
       "</div>"
      ],
      "text/plain": [
       "          Date Time  Link  Energy consumption      Speed  VID\n",
       "0  01/11/2017 08:00     1            0.467553  38.971429  418\n",
       "1  01/11/2017 09:00     1            0.467553  38.971429  418\n",
       "2  01/11/2017 10:00     1            0.467553  38.971429  418\n",
       "3  01/11/2017 11:00     1            0.467553  38.971429  418\n",
       "4  01/11/2017 12:00     1            0.467553  38.971429  418"
      ]
     },
     "execution_count": 3,
     "metadata": {},
     "output_type": "execute_result"
    }
   ],
   "source": [
    "data.head()"
   ]
  },
  {
   "cell_type": "code",
   "execution_count": 4,
   "id": "494cc8ab-9430-4739-839a-fdcad115ac4b",
   "metadata": {
    "tags": []
   },
   "outputs": [
    {
     "data": {
      "text/html": [
       "<div>\n",
       "<style scoped>\n",
       "    .dataframe tbody tr th:only-of-type {\n",
       "        vertical-align: middle;\n",
       "    }\n",
       "\n",
       "    .dataframe tbody tr th {\n",
       "        vertical-align: top;\n",
       "    }\n",
       "\n",
       "    .dataframe thead th {\n",
       "        text-align: right;\n",
       "    }\n",
       "</style>\n",
       "<table border=\"1\" class=\"dataframe\">\n",
       "  <thead>\n",
       "    <tr style=\"text-align: right;\">\n",
       "      <th></th>\n",
       "      <th>Date Time</th>\n",
       "      <th>Link</th>\n",
       "      <th>Energy consumption</th>\n",
       "      <th>Speed</th>\n",
       "      <th>VID</th>\n",
       "    </tr>\n",
       "  </thead>\n",
       "  <tbody>\n",
       "    <tr>\n",
       "      <th>290396</th>\n",
       "      <td>23/11/2017 12:00</td>\n",
       "      <td>798</td>\n",
       "      <td>4.176580</td>\n",
       "      <td>78.285714</td>\n",
       "      <td>344</td>\n",
       "    </tr>\n",
       "    <tr>\n",
       "      <th>290698</th>\n",
       "      <td>18/11/2017 15:00</td>\n",
       "      <td>799</td>\n",
       "      <td>4.137569</td>\n",
       "      <td>60.062500</td>\n",
       "      <td>116</td>\n",
       "    </tr>\n",
       "  </tbody>\n",
       "</table>\n",
       "</div>"
      ],
      "text/plain": [
       "               Date Time  Link  Energy consumption      Speed  VID\n",
       "290396  23/11/2017 12:00   798            4.176580  78.285714  344\n",
       "290698  18/11/2017 15:00   799            4.137569  60.062500  116"
      ]
     },
     "execution_count": 4,
     "metadata": {},
     "output_type": "execute_result"
    }
   ],
   "source": [
    "x = data[data['Energy consumption'] > 4.1]\n",
    "y = x[x['Energy consumption'] < 4.2]\n",
    "y"
   ]
  },
  {
   "cell_type": "code",
   "execution_count": 5,
   "id": "ed92ceb6-56e9-405e-8426-c5146b8f17d1",
   "metadata": {
    "tags": []
   },
   "outputs": [],
   "source": [
    "vehicleType = pd.read_excel('VED_Static_Data_ICE&HEV&PHEV&EV.xlsx')"
   ]
  },
  {
   "cell_type": "code",
   "execution_count": 6,
   "id": "67e94879-6617-4c48-becc-3546f168caa0",
   "metadata": {
    "tags": []
   },
   "outputs": [
    {
     "data": {
      "text/html": [
       "<div>\n",
       "<style scoped>\n",
       "    .dataframe tbody tr th:only-of-type {\n",
       "        vertical-align: middle;\n",
       "    }\n",
       "\n",
       "    .dataframe tbody tr th {\n",
       "        vertical-align: top;\n",
       "    }\n",
       "\n",
       "    .dataframe thead th {\n",
       "        text-align: right;\n",
       "    }\n",
       "</style>\n",
       "<table border=\"1\" class=\"dataframe\">\n",
       "  <thead>\n",
       "    <tr style=\"text-align: right;\">\n",
       "      <th></th>\n",
       "      <th>VehId</th>\n",
       "      <th>Vehicle Type</th>\n",
       "      <th>Vehicle Class</th>\n",
       "      <th>Engine Configuration &amp; Displacement</th>\n",
       "      <th>Transmission</th>\n",
       "      <th>Drive Wheels</th>\n",
       "      <th>Generalized_Weight</th>\n",
       "    </tr>\n",
       "  </thead>\n",
       "  <tbody>\n",
       "    <tr>\n",
       "      <th>0</th>\n",
       "      <td>2</td>\n",
       "      <td>ICE</td>\n",
       "      <td>Car</td>\n",
       "      <td>4-FI 2.0L T/C</td>\n",
       "      <td>NO DATA</td>\n",
       "      <td>NO DATA</td>\n",
       "      <td>3500</td>\n",
       "    </tr>\n",
       "    <tr>\n",
       "      <th>1</th>\n",
       "      <td>5</td>\n",
       "      <td>HEV</td>\n",
       "      <td>Car</td>\n",
       "      <td>4-GAS/ELECTRIC 2.0L</td>\n",
       "      <td>NO DATA</td>\n",
       "      <td>NO DATA</td>\n",
       "      <td>3500</td>\n",
       "    </tr>\n",
       "    <tr>\n",
       "      <th>2</th>\n",
       "      <td>7</td>\n",
       "      <td>ICE</td>\n",
       "      <td>SUV</td>\n",
       "      <td>6-FI 3.6L</td>\n",
       "      <td>AUTOMATIC</td>\n",
       "      <td>NO DATA</td>\n",
       "      <td>4500</td>\n",
       "    </tr>\n",
       "    <tr>\n",
       "      <th>3</th>\n",
       "      <td>8</td>\n",
       "      <td>ICE</td>\n",
       "      <td>Car</td>\n",
       "      <td>4-FI 1.5L</td>\n",
       "      <td>5-SP MANUAL</td>\n",
       "      <td>NO DATA</td>\n",
       "      <td>2500</td>\n",
       "    </tr>\n",
       "    <tr>\n",
       "      <th>4</th>\n",
       "      <td>12</td>\n",
       "      <td>ICE</td>\n",
       "      <td>Car</td>\n",
       "      <td>4-FI 1.8L</td>\n",
       "      <td>NO DATA</td>\n",
       "      <td>NO DATA</td>\n",
       "      <td>2500</td>\n",
       "    </tr>\n",
       "    <tr>\n",
       "      <th>...</th>\n",
       "      <td>...</td>\n",
       "      <td>...</td>\n",
       "      <td>...</td>\n",
       "      <td>...</td>\n",
       "      <td>...</td>\n",
       "      <td>...</td>\n",
       "      <td>...</td>\n",
       "    </tr>\n",
       "    <tr>\n",
       "      <th>378</th>\n",
       "      <td>554</td>\n",
       "      <td>PHEV</td>\n",
       "      <td>Car</td>\n",
       "      <td>4-GAS/ELECTRIC 1.4L</td>\n",
       "      <td>NO DATA</td>\n",
       "      <td>FWD</td>\n",
       "      <td>4000</td>\n",
       "    </tr>\n",
       "    <tr>\n",
       "      <th>379</th>\n",
       "      <td>560</td>\n",
       "      <td>PHEV</td>\n",
       "      <td>Car</td>\n",
       "      <td>4-GAS/ELECTRIC 1.8L</td>\n",
       "      <td>CVT</td>\n",
       "      <td>FWD</td>\n",
       "      <td>3000</td>\n",
       "    </tr>\n",
       "    <tr>\n",
       "      <th>380</th>\n",
       "      <td>561</td>\n",
       "      <td>PHEV</td>\n",
       "      <td>Car</td>\n",
       "      <td>4-GAS/ELECTRIC 2.0L</td>\n",
       "      <td>CVT</td>\n",
       "      <td>FWD</td>\n",
       "      <td>4000</td>\n",
       "    </tr>\n",
       "    <tr>\n",
       "      <th>381</th>\n",
       "      <td>567</td>\n",
       "      <td>PHEV</td>\n",
       "      <td>Car</td>\n",
       "      <td>4-GAS/ELECTRIC 1.4L</td>\n",
       "      <td>NO DATA</td>\n",
       "      <td>FWD</td>\n",
       "      <td>4000</td>\n",
       "    </tr>\n",
       "    <tr>\n",
       "      <th>382</th>\n",
       "      <td>569</td>\n",
       "      <td>PHEV</td>\n",
       "      <td>Car</td>\n",
       "      <td>4-GAS/ELECTRIC 1.4L</td>\n",
       "      <td>NO DATA</td>\n",
       "      <td>FWD</td>\n",
       "      <td>4000</td>\n",
       "    </tr>\n",
       "  </tbody>\n",
       "</table>\n",
       "<p>383 rows × 7 columns</p>\n",
       "</div>"
      ],
      "text/plain": [
       "     VehId Vehicle Type Vehicle Class Engine Configuration & Displacement   \n",
       "0        2          ICE           Car                       4-FI 2.0L T/C  \\\n",
       "1        5          HEV           Car                 4-GAS/ELECTRIC 2.0L   \n",
       "2        7          ICE           SUV                           6-FI 3.6L   \n",
       "3        8          ICE           Car                           4-FI 1.5L   \n",
       "4       12          ICE           Car                           4-FI 1.8L   \n",
       "..     ...          ...           ...                                 ...   \n",
       "378    554         PHEV           Car                 4-GAS/ELECTRIC 1.4L   \n",
       "379    560         PHEV           Car                 4-GAS/ELECTRIC 1.8L   \n",
       "380    561         PHEV           Car                 4-GAS/ELECTRIC 2.0L   \n",
       "381    567         PHEV           Car                 4-GAS/ELECTRIC 1.4L   \n",
       "382    569         PHEV           Car                 4-GAS/ELECTRIC 1.4L   \n",
       "\n",
       "    Transmission Drive Wheels Generalized_Weight  \n",
       "0        NO DATA      NO DATA               3500  \n",
       "1        NO DATA      NO DATA               3500  \n",
       "2      AUTOMATIC      NO DATA               4500  \n",
       "3    5-SP MANUAL      NO DATA               2500  \n",
       "4        NO DATA      NO DATA               2500  \n",
       "..           ...          ...                ...  \n",
       "378      NO DATA          FWD               4000  \n",
       "379          CVT          FWD               3000  \n",
       "380          CVT          FWD               4000  \n",
       "381      NO DATA          FWD               4000  \n",
       "382      NO DATA          FWD               4000  \n",
       "\n",
       "[383 rows x 7 columns]"
      ]
     },
     "execution_count": 6,
     "metadata": {},
     "output_type": "execute_result"
    }
   ],
   "source": [
    "vehicleType"
   ]
  },
  {
   "cell_type": "code",
   "execution_count": 43,
   "id": "32770f1b-6bab-4795-99d5-768ae99b20c1",
   "metadata": {
    "tags": []
   },
   "outputs": [],
   "source": [
    "electricV = vehicleType[vehicleType['Vehicle Type'].str.contains('EV')]"
   ]
  },
  {
   "cell_type": "code",
   "execution_count": 44,
   "id": "9b5ff2f0-d6f4-480d-b840-613580a35bc4",
   "metadata": {
    "tags": []
   },
   "outputs": [
    {
     "data": {
      "text/html": [
       "<div>\n",
       "<style scoped>\n",
       "    .dataframe tbody tr th:only-of-type {\n",
       "        vertical-align: middle;\n",
       "    }\n",
       "\n",
       "    .dataframe tbody tr th {\n",
       "        vertical-align: top;\n",
       "    }\n",
       "\n",
       "    .dataframe thead th {\n",
       "        text-align: right;\n",
       "    }\n",
       "</style>\n",
       "<table border=\"1\" class=\"dataframe\">\n",
       "  <thead>\n",
       "    <tr style=\"text-align: right;\">\n",
       "      <th></th>\n",
       "      <th>VehId</th>\n",
       "      <th>Vehicle Type</th>\n",
       "      <th>Vehicle Class</th>\n",
       "      <th>Engine Configuration &amp; Displacement</th>\n",
       "      <th>Transmission</th>\n",
       "      <th>Drive Wheels</th>\n",
       "      <th>Generalized_Weight</th>\n",
       "    </tr>\n",
       "  </thead>\n",
       "  <tbody>\n",
       "    <tr>\n",
       "      <th>1</th>\n",
       "      <td>5</td>\n",
       "      <td>HEV</td>\n",
       "      <td>Car</td>\n",
       "      <td>4-GAS/ELECTRIC 2.0L</td>\n",
       "      <td>NO DATA</td>\n",
       "      <td>NO DATA</td>\n",
       "      <td>3500</td>\n",
       "    </tr>\n",
       "    <tr>\n",
       "      <th>7</th>\n",
       "      <td>115</td>\n",
       "      <td>HEV</td>\n",
       "      <td>NO DATA</td>\n",
       "      <td>4-GAS/ELECTRIC 2.5L</td>\n",
       "      <td>NO DATA</td>\n",
       "      <td>NO DATA</td>\n",
       "      <td>3500</td>\n",
       "    </tr>\n",
       "    <tr>\n",
       "      <th>12</th>\n",
       "      <td>124</td>\n",
       "      <td>HEV</td>\n",
       "      <td>NO DATA</td>\n",
       "      <td>4-GAS/ELECTRIC 1.8L</td>\n",
       "      <td>NO DATA</td>\n",
       "      <td>NO DATA</td>\n",
       "      <td>3000</td>\n",
       "    </tr>\n",
       "    <tr>\n",
       "      <th>13</th>\n",
       "      <td>125</td>\n",
       "      <td>HEV</td>\n",
       "      <td>NO DATA</td>\n",
       "      <td>4-GAS/ELECTRIC 2.4L</td>\n",
       "      <td>NO DATA</td>\n",
       "      <td>NO DATA</td>\n",
       "      <td>3500</td>\n",
       "    </tr>\n",
       "    <tr>\n",
       "      <th>33</th>\n",
       "      <td>150</td>\n",
       "      <td>HEV</td>\n",
       "      <td>NO DATA</td>\n",
       "      <td>4-FI 1.3L GAS/ELEC.</td>\n",
       "      <td>CVT</td>\n",
       "      <td>NO DATA</td>\n",
       "      <td>2500</td>\n",
       "    </tr>\n",
       "  </tbody>\n",
       "</table>\n",
       "</div>"
      ],
      "text/plain": [
       "    VehId Vehicle Type Vehicle Class Engine Configuration & Displacement   \n",
       "1       5          HEV           Car                 4-GAS/ELECTRIC 2.0L  \\\n",
       "7     115          HEV       NO DATA                 4-GAS/ELECTRIC 2.5L   \n",
       "12    124          HEV       NO DATA                 4-GAS/ELECTRIC 1.8L   \n",
       "13    125          HEV       NO DATA                 4-GAS/ELECTRIC 2.4L   \n",
       "33    150          HEV       NO DATA                 4-FI 1.3L GAS/ELEC.   \n",
       "\n",
       "   Transmission Drive Wheels Generalized_Weight  \n",
       "1       NO DATA      NO DATA               3500  \n",
       "7       NO DATA      NO DATA               3500  \n",
       "12      NO DATA      NO DATA               3000  \n",
       "13      NO DATA      NO DATA               3500  \n",
       "33          CVT      NO DATA               2500  "
      ]
     },
     "execution_count": 44,
     "metadata": {},
     "output_type": "execute_result"
    }
   ],
   "source": [
    "electricV.head()"
   ]
  },
  {
   "cell_type": "code",
   "execution_count": 45,
   "id": "1b8b9543-0181-4dd0-8637-d5336653ce77",
   "metadata": {
    "tags": []
   },
   "outputs": [],
   "source": [
    "vIds = electricV['VehId']"
   ]
  },
  {
   "cell_type": "code",
   "execution_count": 46,
   "id": "e374e122-0c3c-4e51-ab9e-2e5997906f0b",
   "metadata": {
    "tags": []
   },
   "outputs": [
    {
     "data": {
      "text/plain": [
       "1        5\n",
       "7      115\n",
       "12     124\n",
       "13     125\n",
       "33     150\n",
       "      ... \n",
       "378    554\n",
       "379    560\n",
       "380    561\n",
       "381    567\n",
       "382    569\n",
       "Name: VehId, Length: 119, dtype: int64"
      ]
     },
     "execution_count": 46,
     "metadata": {},
     "output_type": "execute_result"
    }
   ],
   "source": [
    "vIds"
   ]
  },
  {
   "cell_type": "code",
   "execution_count": 47,
   "id": "94a6ad26-f135-48cc-9664-eeed5fb006ea",
   "metadata": {
    "tags": []
   },
   "outputs": [],
   "source": [
    "is_in_list = data['VID'].isin(vIds)"
   ]
  },
  {
   "cell_type": "code",
   "execution_count": 48,
   "id": "3f564af4-ecec-4fd5-9305-b248132b5fdb",
   "metadata": {
    "tags": []
   },
   "outputs": [
    {
     "data": {
      "text/plain": [
       "0          True\n",
       "1          True\n",
       "2          True\n",
       "3          True\n",
       "4          True\n",
       "          ...  \n",
       "363991    False\n",
       "363992    False\n",
       "363993    False\n",
       "363994    False\n",
       "363995    False\n",
       "Name: VID, Length: 363996, dtype: bool"
      ]
     },
     "execution_count": 48,
     "metadata": {},
     "output_type": "execute_result"
    }
   ],
   "source": [
    "is_in_list"
   ]
  },
  {
   "cell_type": "code",
   "execution_count": 49,
   "id": "b002a7c5-589e-4da1-8518-ca8a21a46ad6",
   "metadata": {
    "tags": []
   },
   "outputs": [],
   "source": [
    "filtered_data = data[is_in_list]"
   ]
  },
  {
   "cell_type": "code",
   "execution_count": 50,
   "id": "d54488c8-6c4a-486a-9a94-761fea0d67f7",
   "metadata": {
    "tags": []
   },
   "outputs": [
    {
     "data": {
      "text/html": [
       "<div>\n",
       "<style scoped>\n",
       "    .dataframe tbody tr th:only-of-type {\n",
       "        vertical-align: middle;\n",
       "    }\n",
       "\n",
       "    .dataframe tbody tr th {\n",
       "        vertical-align: top;\n",
       "    }\n",
       "\n",
       "    .dataframe thead th {\n",
       "        text-align: right;\n",
       "    }\n",
       "</style>\n",
       "<table border=\"1\" class=\"dataframe\">\n",
       "  <thead>\n",
       "    <tr style=\"text-align: right;\">\n",
       "      <th></th>\n",
       "      <th>Date Time</th>\n",
       "      <th>Link</th>\n",
       "      <th>Energy consumption</th>\n",
       "      <th>Speed</th>\n",
       "      <th>VID</th>\n",
       "    </tr>\n",
       "  </thead>\n",
       "  <tbody>\n",
       "    <tr>\n",
       "      <th>0</th>\n",
       "      <td>01/11/2017 08:00</td>\n",
       "      <td>1</td>\n",
       "      <td>0.467553</td>\n",
       "      <td>38.971429</td>\n",
       "      <td>418</td>\n",
       "    </tr>\n",
       "    <tr>\n",
       "      <th>1</th>\n",
       "      <td>01/11/2017 09:00</td>\n",
       "      <td>1</td>\n",
       "      <td>0.467553</td>\n",
       "      <td>38.971429</td>\n",
       "      <td>418</td>\n",
       "    </tr>\n",
       "    <tr>\n",
       "      <th>2</th>\n",
       "      <td>01/11/2017 10:00</td>\n",
       "      <td>1</td>\n",
       "      <td>0.467553</td>\n",
       "      <td>38.971429</td>\n",
       "      <td>418</td>\n",
       "    </tr>\n",
       "    <tr>\n",
       "      <th>3</th>\n",
       "      <td>01/11/2017 11:00</td>\n",
       "      <td>1</td>\n",
       "      <td>0.467553</td>\n",
       "      <td>38.971429</td>\n",
       "      <td>418</td>\n",
       "    </tr>\n",
       "    <tr>\n",
       "      <th>4</th>\n",
       "      <td>01/11/2017 12:00</td>\n",
       "      <td>1</td>\n",
       "      <td>0.467553</td>\n",
       "      <td>38.971429</td>\n",
       "      <td>418</td>\n",
       "    </tr>\n",
       "    <tr>\n",
       "      <th>...</th>\n",
       "      <td>...</td>\n",
       "      <td>...</td>\n",
       "      <td>...</td>\n",
       "      <td>...</td>\n",
       "      <td>...</td>\n",
       "    </tr>\n",
       "    <tr>\n",
       "      <th>314123</th>\n",
       "      <td>28/11/2017 15:00</td>\n",
       "      <td>863</td>\n",
       "      <td>0.351419</td>\n",
       "      <td>99.424211</td>\n",
       "      <td>550</td>\n",
       "    </tr>\n",
       "    <tr>\n",
       "      <th>314124</th>\n",
       "      <td>28/11/2017 16:00</td>\n",
       "      <td>863</td>\n",
       "      <td>0.703902</td>\n",
       "      <td>27.657895</td>\n",
       "      <td>374</td>\n",
       "    </tr>\n",
       "    <tr>\n",
       "      <th>314125</th>\n",
       "      <td>28/11/2017 17:00</td>\n",
       "      <td>863</td>\n",
       "      <td>0.000000</td>\n",
       "      <td>97.024127</td>\n",
       "      <td>545</td>\n",
       "    </tr>\n",
       "    <tr>\n",
       "      <th>314126</th>\n",
       "      <td>28/11/2017 18:00</td>\n",
       "      <td>863</td>\n",
       "      <td>0.000000</td>\n",
       "      <td>97.024127</td>\n",
       "      <td>545</td>\n",
       "    </tr>\n",
       "    <tr>\n",
       "      <th>314127</th>\n",
       "      <td>28/11/2017 19:00</td>\n",
       "      <td>863</td>\n",
       "      <td>0.000000</td>\n",
       "      <td>97.024127</td>\n",
       "      <td>545</td>\n",
       "    </tr>\n",
       "  </tbody>\n",
       "</table>\n",
       "<p>160647 rows × 5 columns</p>\n",
       "</div>"
      ],
      "text/plain": [
       "               Date Time  Link  Energy consumption      Speed  VID\n",
       "0       01/11/2017 08:00     1            0.467553  38.971429  418\n",
       "1       01/11/2017 09:00     1            0.467553  38.971429  418\n",
       "2       01/11/2017 10:00     1            0.467553  38.971429  418\n",
       "3       01/11/2017 11:00     1            0.467553  38.971429  418\n",
       "4       01/11/2017 12:00     1            0.467553  38.971429  418\n",
       "...                  ...   ...                 ...        ...  ...\n",
       "314123  28/11/2017 15:00   863            0.351419  99.424211  550\n",
       "314124  28/11/2017 16:00   863            0.703902  27.657895  374\n",
       "314125  28/11/2017 17:00   863            0.000000  97.024127  545\n",
       "314126  28/11/2017 18:00   863            0.000000  97.024127  545\n",
       "314127  28/11/2017 19:00   863            0.000000  97.024127  545\n",
       "\n",
       "[160647 rows x 5 columns]"
      ]
     },
     "execution_count": 50,
     "metadata": {},
     "output_type": "execute_result"
    }
   ],
   "source": [
    "filtered_data"
   ]
  },
  {
   "cell_type": "code",
   "execution_count": 51,
   "id": "3e3291f0-ecdc-402b-9068-fa8a760f12a5",
   "metadata": {
    "tags": []
   },
   "outputs": [
    {
     "data": {
      "text/html": [
       "<div>\n",
       "<style scoped>\n",
       "    .dataframe tbody tr th:only-of-type {\n",
       "        vertical-align: middle;\n",
       "    }\n",
       "\n",
       "    .dataframe tbody tr th {\n",
       "        vertical-align: top;\n",
       "    }\n",
       "\n",
       "    .dataframe thead th {\n",
       "        text-align: right;\n",
       "    }\n",
       "</style>\n",
       "<table border=\"1\" class=\"dataframe\">\n",
       "  <thead>\n",
       "    <tr style=\"text-align: right;\">\n",
       "      <th></th>\n",
       "      <th>Date Time</th>\n",
       "      <th>Link</th>\n",
       "      <th>Energy consumption</th>\n",
       "      <th>Speed</th>\n",
       "      <th>VID</th>\n",
       "    </tr>\n",
       "  </thead>\n",
       "  <tbody>\n",
       "    <tr>\n",
       "      <th>0</th>\n",
       "      <td>01/11/2017 08:00</td>\n",
       "      <td>1</td>\n",
       "      <td>0.467553</td>\n",
       "      <td>38.971429</td>\n",
       "      <td>418</td>\n",
       "    </tr>\n",
       "    <tr>\n",
       "      <th>1</th>\n",
       "      <td>01/11/2017 09:00</td>\n",
       "      <td>1</td>\n",
       "      <td>0.467553</td>\n",
       "      <td>38.971429</td>\n",
       "      <td>418</td>\n",
       "    </tr>\n",
       "    <tr>\n",
       "      <th>2</th>\n",
       "      <td>01/11/2017 10:00</td>\n",
       "      <td>1</td>\n",
       "      <td>0.467553</td>\n",
       "      <td>38.971429</td>\n",
       "      <td>418</td>\n",
       "    </tr>\n",
       "    <tr>\n",
       "      <th>3</th>\n",
       "      <td>01/11/2017 11:00</td>\n",
       "      <td>1</td>\n",
       "      <td>0.467553</td>\n",
       "      <td>38.971429</td>\n",
       "      <td>418</td>\n",
       "    </tr>\n",
       "    <tr>\n",
       "      <th>4</th>\n",
       "      <td>01/11/2017 12:00</td>\n",
       "      <td>1</td>\n",
       "      <td>0.467553</td>\n",
       "      <td>38.971429</td>\n",
       "      <td>418</td>\n",
       "    </tr>\n",
       "    <tr>\n",
       "      <th>...</th>\n",
       "      <td>...</td>\n",
       "      <td>...</td>\n",
       "      <td>...</td>\n",
       "      <td>...</td>\n",
       "      <td>...</td>\n",
       "    </tr>\n",
       "    <tr>\n",
       "      <th>363991</th>\n",
       "      <td>28/11/2017 16:00</td>\n",
       "      <td>1000</td>\n",
       "      <td>0.414542</td>\n",
       "      <td>33.535545</td>\n",
       "      <td>185</td>\n",
       "    </tr>\n",
       "    <tr>\n",
       "      <th>363992</th>\n",
       "      <td>28/11/2017 17:00</td>\n",
       "      <td>1000</td>\n",
       "      <td>0.414542</td>\n",
       "      <td>33.535545</td>\n",
       "      <td>185</td>\n",
       "    </tr>\n",
       "    <tr>\n",
       "      <th>363993</th>\n",
       "      <td>28/11/2017 18:00</td>\n",
       "      <td>1000</td>\n",
       "      <td>0.414542</td>\n",
       "      <td>33.535545</td>\n",
       "      <td>185</td>\n",
       "    </tr>\n",
       "    <tr>\n",
       "      <th>363994</th>\n",
       "      <td>28/11/2017 19:00</td>\n",
       "      <td>1000</td>\n",
       "      <td>0.414542</td>\n",
       "      <td>33.535545</td>\n",
       "      <td>185</td>\n",
       "    </tr>\n",
       "    <tr>\n",
       "      <th>363995</th>\n",
       "      <td>28/11/2017 20:00</td>\n",
       "      <td>1000</td>\n",
       "      <td>0.414542</td>\n",
       "      <td>33.535545</td>\n",
       "      <td>185</td>\n",
       "    </tr>\n",
       "  </tbody>\n",
       "</table>\n",
       "<p>363996 rows × 5 columns</p>\n",
       "</div>"
      ],
      "text/plain": [
       "               Date Time  Link  Energy consumption      Speed  VID\n",
       "0       01/11/2017 08:00     1            0.467553  38.971429  418\n",
       "1       01/11/2017 09:00     1            0.467553  38.971429  418\n",
       "2       01/11/2017 10:00     1            0.467553  38.971429  418\n",
       "3       01/11/2017 11:00     1            0.467553  38.971429  418\n",
       "4       01/11/2017 12:00     1            0.467553  38.971429  418\n",
       "...                  ...   ...                 ...        ...  ...\n",
       "363991  28/11/2017 16:00  1000            0.414542  33.535545  185\n",
       "363992  28/11/2017 17:00  1000            0.414542  33.535545  185\n",
       "363993  28/11/2017 18:00  1000            0.414542  33.535545  185\n",
       "363994  28/11/2017 19:00  1000            0.414542  33.535545  185\n",
       "363995  28/11/2017 20:00  1000            0.414542  33.535545  185\n",
       "\n",
       "[363996 rows x 5 columns]"
      ]
     },
     "execution_count": 51,
     "metadata": {},
     "output_type": "execute_result"
    }
   ],
   "source": [
    "data"
   ]
  },
  {
   "cell_type": "code",
   "execution_count": 1,
   "id": "a5ed7cf6-59c4-45c0-880a-31e5e86b6ff4",
   "metadata": {},
   "outputs": [
    {
     "name": "stdout",
     "output_type": "stream",
     "text": [
      "(955, 12, 2)\n",
      "tf.Tensor(\n",
      "[[[0.37454012 0.9507143 ]\n",
      "  [0.7319939  0.5986585 ]\n",
      "  [0.15601864 0.15599452]]\n",
      "\n",
      " [[0.45606998 0.785176  ]\n",
      "  [0.19967379 0.5142344 ]\n",
      "  [0.59241456 0.04645041]]\n",
      "\n",
      " [[0.54671025 0.18485446]\n",
      "  [0.96958464 0.77513283]\n",
      "  [0.93949896 0.89482737]]], shape=(3, 3, 2), dtype=float32)\n"
     ]
    }
   ],
   "source": [
    "import tensorflow as tf\n",
    "import numpy as np\n",
    "\n",
    "# Set the random seed for reproducibility\n",
    "np.random.seed(42)\n",
    "\n",
    "# Create a random tensor with shape (955, 12, 2)\n",
    "random_tensor = tf.constant(np.random.rand(955, 12, 2), dtype=tf.float32)\n",
    "\n",
    "# Print the shape and the first few elements of the tensor\n",
    "print(random_tensor.shape)\n",
    "print(random_tensor[:3, :3, :])"
   ]
  },
  {
   "cell_type": "code",
   "execution_count": 3,
   "id": "3a8ce88b-4ab3-4759-93db-a1a86446f8bc",
   "metadata": {
    "tags": []
   },
   "outputs": [],
   "source": [
    "output_tensor = tf.reshape(random_tensor, [955, 6, 4])"
   ]
  },
  {
   "cell_type": "code",
   "execution_count": 4,
   "id": "47fff3c8-5921-4555-925b-1a25815112bc",
   "metadata": {
    "tags": []
   },
   "outputs": [
    {
     "data": {
      "text/plain": [
       "TensorShape([955, 6, 4])"
      ]
     },
     "execution_count": 4,
     "metadata": {},
     "output_type": "execute_result"
    }
   ],
   "source": [
    "output_tensor.shape"
   ]
  },
  {
   "cell_type": "code",
   "execution_count": 5,
   "id": "253cd977-194b-4286-ab2f-5c408da6963e",
   "metadata": {
    "tags": []
   },
   "outputs": [
    {
     "data": {
      "text/plain": [
       "<tf.Tensor: shape=(955, 6, 4), dtype=float32, numpy=\n",
       "array([[[0.37454012, 0.9507143 , 0.7319939 , 0.5986585 ],\n",
       "        [0.15601864, 0.15599452, 0.05808361, 0.8661761 ],\n",
       "        [0.601115  , 0.7080726 , 0.02058449, 0.96990985],\n",
       "        [0.83244264, 0.21233912, 0.18182497, 0.1834045 ],\n",
       "        [0.30424225, 0.52475643, 0.43194503, 0.29122913],\n",
       "        [0.6118529 , 0.13949387, 0.29214466, 0.36636186]],\n",
       "\n",
       "       [[0.45606998, 0.785176  , 0.19967379, 0.5142344 ],\n",
       "        [0.59241456, 0.04645041, 0.60754484, 0.17052412],\n",
       "        [0.06505159, 0.94888556, 0.965632  , 0.80839735],\n",
       "        [0.30461377, 0.09767211, 0.684233  , 0.4401525 ],\n",
       "        [0.12203824, 0.4951769 , 0.03438852, 0.9093204 ],\n",
       "        [0.25877997, 0.66252226, 0.31171107, 0.52006805]],\n",
       "\n",
       "       [[0.54671025, 0.18485446, 0.96958464, 0.77513283],\n",
       "        [0.93949896, 0.89482737, 0.5979    , 0.9218742 ],\n",
       "        [0.08849251, 0.19598286, 0.04522729, 0.32533032],\n",
       "        [0.3886773 , 0.27134904, 0.8287375 , 0.35675332],\n",
       "        [0.2809345 , 0.54269606, 0.14092423, 0.802197  ],\n",
       "        [0.07455064, 0.9868869 , 0.77224475, 0.19871569]],\n",
       "\n",
       "       ...,\n",
       "\n",
       "       [[0.41334227, 0.5582596 , 0.71389097, 0.03014132],\n",
       "        [0.2905094 , 0.6085191 , 0.35736868, 0.77502507],\n",
       "        [0.65165216, 0.23440145, 0.14592898, 0.629047  ],\n",
       "        [0.45046732, 0.16895704, 0.3263742 , 0.30304676],\n",
       "        [0.10813197, 0.54690903, 0.7636486 , 0.5754669 ],\n",
       "        [0.8262914 , 0.12756854, 0.43561184, 0.6094151 ]],\n",
       "\n",
       "       [[0.67600155, 0.6957863 , 0.7289654 , 0.65142983],\n",
       "        [0.09422809, 0.6953057 , 0.72478265, 0.9934799 ],\n",
       "        [0.6933624 , 0.6868304 , 0.5148133 , 0.8679229 ],\n",
       "        [0.99683475, 0.77904487, 0.61250037, 0.07895482],\n",
       "        [0.7267391 , 0.70856154, 0.7755681 , 0.12455539],\n",
       "        [0.6537325 , 0.29572392, 0.76027125, 0.24037395]],\n",
       "\n",
       "       [[0.6839787 , 0.29499295, 0.00899429, 0.6333579 ],\n",
       "        [0.11326908, 0.65929145, 0.92560947, 0.9692459 ],\n",
       "        [0.23592308, 0.8092532 , 0.35355327, 0.9004571 ],\n",
       "        [0.7874896 , 0.07392172, 0.407137  , 0.33731782],\n",
       "        [0.78518105, 0.4102857 , 0.6845884 , 0.60243523],\n",
       "        [0.97563875, 0.93778497, 0.4276995 , 0.7235782 ]]], dtype=float32)>"
      ]
     },
     "execution_count": 5,
     "metadata": {},
     "output_type": "execute_result"
    }
   ],
   "source": [
    "output_tensor"
   ]
  },
  {
   "cell_type": "code",
   "execution_count": null,
   "id": "cca80f31-a544-4cbc-9984-c58f85184cfb",
   "metadata": {},
   "outputs": [],
   "source": []
  }
 ],
 "metadata": {
  "kernelspec": {
   "display_name": "Python 3 (ipykernel)",
   "language": "python",
   "name": "python3"
  },
  "language_info": {
   "codemirror_mode": {
    "name": "ipython",
    "version": 3
   },
   "file_extension": ".py",
   "mimetype": "text/x-python",
   "name": "python",
   "nbconvert_exporter": "python",
   "pygments_lexer": "ipython3",
   "version": "3.11.3"
  }
 },
 "nbformat": 4,
 "nbformat_minor": 5
}
